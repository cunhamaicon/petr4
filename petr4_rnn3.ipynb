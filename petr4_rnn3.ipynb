{
  "nbformat": 4,
  "nbformat_minor": 0,
  "metadata": {
    "colab": {
      "name": "petr4_rnn3.ipynb",
      "version": "0.3.2",
      "provenance": [],
      "collapsed_sections": [],
      "include_colab_link": true
    },
    "kernelspec": {
      "name": "python3",
      "display_name": "Python 3"
    }
  },
  "cells": [
    {
      "cell_type": "markdown",
      "metadata": {
        "id": "view-in-github",
        "colab_type": "text"
      },
      "source": [
        "<a href=\"https://colab.research.google.com/github/cunhamaicon/petr4/blob/master/petr4_rnn3.ipynb\" target=\"_parent\"><img src=\"https://colab.research.google.com/assets/colab-badge.svg\" alt=\"Open In Colab\"/></a>"
      ]
    },
    {
      "metadata": {
        "id": "6U7JkWpny-AA",
        "colab_type": "text"
      },
      "cell_type": "markdown",
      "source": [
        "# PETR4 - RNN3\n",
        "\n",
        "**Implementação de rede neural recorrente para prever o valor de abertura da ação PETR4 no dia seguinte.**\n",
        "\n",
        "\n",
        "** Autor: Maicon Henrique Cunha**\n",
        "\n",
        "Github: [https://github.com/cunhamaicon](https://https://github.com/cunhamaicon)\n",
        "\n",
        "## Informações:\n",
        "\n",
        "1. Foram coletados dados dos valores de abertura e volume das ações da Petrobras PETR4 desde o momento de seu lançamento na bolsa 03/01/2000 até o dia 15/04/2019. Os dados podem ser obtidos [aqui](https://github.com/cunhamaicon/petr4) no arquivo \"PETR4.csv\". \n",
        "\n",
        "2. Juntamente com os dados do valor do petróleo cru desde 04/01/200 até  16/04/2019 que estão no arquivo \"CrudeOil.csv\". \n",
        "\n",
        "3. Nesse terceira rede  (RNN3 ) serão consideradas as variáveis  \"abertura\" e \"preço do óleo cru\". \n",
        "\n",
        "4. Nesse teste foram considerados 100 dias de memória da rede e para comparativo a previsão dos últimos 50 dias do valor da ação.\n",
        "\n",
        "5. Todo o código foi feito no Colab e pode ser compilado online em [https://colab.research.google.com](https://colab.research.google.com).\n",
        "\n",
        "\n",
        "\n",
        "## Objetivos:\n",
        "\n",
        "\n",
        "\n",
        "1.   Tratar os dados\n",
        "2.   Construção de rede neural recorrente\n",
        "3. Análise dos resultados\n",
        "4. Comparação com o comportamento real da ação\n",
        "\n"
      ]
    },
    {
      "metadata": {
        "id": "yyQoKPXiD-MF",
        "colab_type": "text"
      },
      "cell_type": "markdown",
      "source": [
        "##Procedimentos iniciais:"
      ]
    },
    {
      "metadata": {
        "id": "Rr8QxsUxDl8N",
        "colab_type": "text"
      },
      "cell_type": "markdown",
      "source": [
        "###Fazendo download da pasta:"
      ]
    },
    {
      "metadata": {
        "id": "WR5Dj7aLCxsN",
        "colab_type": "code",
        "outputId": "b9932efe-f54e-4c1f-cac9-f92c834a1d83",
        "colab": {
          "base_uri": "https://localhost:8080/",
          "height": 122
        }
      },
      "cell_type": "code",
      "source": [
        "!git clone https://github.com/cunhamaicon/petr4"
      ],
      "execution_count": 1,
      "outputs": [
        {
          "output_type": "stream",
          "text": [
            "Cloning into 'petr4'...\n",
            "remote: Enumerating objects: 28, done.\u001b[K\n",
            "remote: Counting objects: 100% (28/28), done.\u001b[K\n",
            "remote: Compressing objects: 100% (28/28), done.\u001b[K\n",
            "remote: Total 28 (delta 10), reused 3 (delta 0), pack-reused 0\u001b[K\n",
            "Unpacking objects: 100% (28/28), done.\n"
          ],
          "name": "stdout"
        }
      ]
    },
    {
      "metadata": {
        "id": "2Iqv78E-DuRn",
        "colab_type": "text"
      },
      "cell_type": "markdown",
      "source": [
        "Mostrando arquivos da pasta:"
      ]
    },
    {
      "metadata": {
        "id": "hRbzoaJbDU9o",
        "colab_type": "code",
        "outputId": "b9b73a43-59c5-4146-c4a5-3d63711e51db",
        "colab": {
          "base_uri": "https://localhost:8080/",
          "height": 52
        }
      },
      "cell_type": "code",
      "source": [
        "ls petr4"
      ],
      "execution_count": 2,
      "outputs": [
        {
          "output_type": "stream",
          "text": [
            "CrudeOil.csv  petr4_rnn1.ipynb  petr4_rnn3.ipynb\n",
            "PETR4.csv     petr4_rnn2.ipynb  README.md\n"
          ],
          "name": "stdout"
        }
      ]
    },
    {
      "metadata": {
        "id": "9FmHJN-4EGB3",
        "colab_type": "text"
      },
      "cell_type": "markdown",
      "source": [
        "###Importação dos pacotes ncessários:"
      ]
    },
    {
      "metadata": {
        "id": "ouLu3_HiDkYV",
        "colab_type": "code",
        "colab": {
          "base_uri": "https://localhost:8080/",
          "height": 34
        },
        "outputId": "679e6934-f84a-421e-cabe-30b19ed8c220"
      },
      "cell_type": "code",
      "source": [
        "import numpy as np\n",
        "import matplotlib.pyplot as plt\n",
        "import pandas as pd\n",
        "from sklearn.preprocessing import MinMaxScaler\n",
        "from keras.models import Sequential\n",
        "from keras.layers import Dense\n",
        "from keras.layers import LSTM\n",
        "from keras.layers import Dropout\n",
        "import math\n",
        "from sklearn.metrics import mean_squared_error\n",
        "import os"
      ],
      "execution_count": 3,
      "outputs": [
        {
          "output_type": "stream",
          "text": [
            "Using TensorFlow backend.\n"
          ],
          "name": "stderr"
        }
      ]
    },
    {
      "metadata": {
        "id": "vrqcVD6IA5I-",
        "colab_type": "text"
      },
      "cell_type": "markdown",
      "source": [
        "###Definição de parâmetros:"
      ]
    },
    {
      "metadata": {
        "id": "HQ9E3iNWA19q",
        "colab_type": "text"
      },
      "cell_type": "markdown",
      "source": [
        "1. A variável \"size\" indica quantos dias anteriores a previsão serão utilizados para treinamento da rede em cada iteração.\n",
        "\n",
        "2. A variável \"date\" indica qual o início do período de captção dos dados.\n",
        "3. A variável \"days\" indica quantos dias serão objetos de estudo na análise posterior a construção do modelo.\n",
        "4. A variável \"final_date\" indica a data do último registro captado.\n",
        "\n",
        "Obs: as variáveis \"date\" e \"final_date\" devem ser escolhidas no formato indicado e devem ser dados válidos. Datas em que não houve registro devem ser desconsideradas. Esse procedimento será feito com a aplicação da função select_date."
      ]
    },
    {
      "metadata": {
        "id": "Ori7cG6gAq__",
        "colab_type": "code",
        "colab": {}
      },
      "cell_type": "code",
      "source": [
        "#testar com 20 epochs\n",
        "\n",
        "size = 100\n",
        "date = \"2000-06-23\"\n",
        "days = 50\n",
        "final_date = \"2019-04-15\""
      ],
      "execution_count": 0,
      "outputs": []
    },
    {
      "metadata": {
        "id": "cCU1LmI7EZOf",
        "colab_type": "text"
      },
      "cell_type": "markdown",
      "source": [
        "##Pré-processamento de dados:"
      ]
    },
    {
      "metadata": {
        "id": "_kaesWlyEphm",
        "colab_type": "text"
      },
      "cell_type": "markdown",
      "source": [
        "###Criando os bancos:"
      ]
    },
    {
      "metadata": {
        "id": "ImZTwErJEcCu",
        "colab_type": "code",
        "colab": {}
      },
      "cell_type": "code",
      "source": [
        "datadir='petr4'\n",
        "data_petr = pd.read_csv(os.path.join(datadir, \"PETR4.csv\"))\n",
        "data_oil = pd.read_csv(os.path.join(datadir, \"CrudeOil.csv\"))"
      ],
      "execution_count": 0,
      "outputs": []
    },
    {
      "metadata": {
        "id": "DNMnXGjoMGEi",
        "colab_type": "text"
      },
      "cell_type": "markdown",
      "source": [
        "Verificando o tamanho dos dois bancos:"
      ]
    },
    {
      "metadata": {
        "id": "cb8ZHwS2XH1l",
        "colab_type": "code",
        "outputId": "b4a4347f-9b2c-43f7-d1d9-af8858b83429",
        "colab": {
          "base_uri": "https://localhost:8080/",
          "height": 34
        }
      },
      "cell_type": "code",
      "source": [
        "len(data_petr)"
      ],
      "execution_count": 6,
      "outputs": [
        {
          "output_type": "execute_result",
          "data": {
            "text/plain": [
              "4857"
            ]
          },
          "metadata": {
            "tags": []
          },
          "execution_count": 6
        }
      ]
    },
    {
      "metadata": {
        "id": "Bg8ArTmEXL4j",
        "colab_type": "code",
        "outputId": "2aace0d5-20f3-4871-bb4a-bf38cfe9b013",
        "colab": {
          "base_uri": "https://localhost:8080/",
          "height": 34
        }
      },
      "cell_type": "code",
      "source": [
        "len(data_oil)"
      ],
      "execution_count": 7,
      "outputs": [
        {
          "output_type": "execute_result",
          "data": {
            "text/plain": [
              "4907"
            ]
          },
          "metadata": {
            "tags": []
          },
          "execution_count": 7
        }
      ]
    },
    {
      "metadata": {
        "id": "2CqzAa2BMLBv",
        "colab_type": "text"
      },
      "cell_type": "markdown",
      "source": [
        "Mostrando o cabeçalho dos bancos:"
      ]
    },
    {
      "metadata": {
        "id": "05QIiOCUYKp5",
        "colab_type": "code",
        "outputId": "363d1608-ed3f-4990-fdc6-b61d508d953a",
        "colab": {
          "base_uri": "https://localhost:8080/",
          "height": 195
        }
      },
      "cell_type": "code",
      "source": [
        "data_petr.head()"
      ],
      "execution_count": 8,
      "outputs": [
        {
          "output_type": "execute_result",
          "data": {
            "text/html": [
              "<div>\n",
              "<style scoped>\n",
              "    .dataframe tbody tr th:only-of-type {\n",
              "        vertical-align: middle;\n",
              "    }\n",
              "\n",
              "    .dataframe tbody tr th {\n",
              "        vertical-align: top;\n",
              "    }\n",
              "\n",
              "    .dataframe thead th {\n",
              "        text-align: right;\n",
              "    }\n",
              "</style>\n",
              "<table border=\"1\" class=\"dataframe\">\n",
              "  <thead>\n",
              "    <tr style=\"text-align: right;\">\n",
              "      <th></th>\n",
              "      <th>Date</th>\n",
              "      <th>Open</th>\n",
              "      <th>Volume</th>\n",
              "    </tr>\n",
              "  </thead>\n",
              "  <tbody>\n",
              "    <tr>\n",
              "      <th>0</th>\n",
              "      <td>2000-01-03</td>\n",
              "      <td>5.88</td>\n",
              "      <td>3.538944e+10</td>\n",
              "    </tr>\n",
              "    <tr>\n",
              "      <th>1</th>\n",
              "      <td>2000-01-04</td>\n",
              "      <td>5.55</td>\n",
              "      <td>2.886144e+10</td>\n",
              "    </tr>\n",
              "    <tr>\n",
              "      <th>2</th>\n",
              "      <td>2000-01-05</td>\n",
              "      <td>5.49</td>\n",
              "      <td>4.303360e+10</td>\n",
              "    </tr>\n",
              "    <tr>\n",
              "      <th>3</th>\n",
              "      <td>2000-01-06</td>\n",
              "      <td>5.48</td>\n",
              "      <td>3.405568e+10</td>\n",
              "    </tr>\n",
              "    <tr>\n",
              "      <th>4</th>\n",
              "      <td>2000-01-07</td>\n",
              "      <td>5.50</td>\n",
              "      <td>2.091264e+10</td>\n",
              "    </tr>\n",
              "  </tbody>\n",
              "</table>\n",
              "</div>"
            ],
            "text/plain": [
              "         Date  Open        Volume\n",
              "0  2000-01-03  5.88  3.538944e+10\n",
              "1  2000-01-04  5.55  2.886144e+10\n",
              "2  2000-01-05  5.49  4.303360e+10\n",
              "3  2000-01-06  5.48  3.405568e+10\n",
              "4  2000-01-07  5.50  2.091264e+10"
            ]
          },
          "metadata": {
            "tags": []
          },
          "execution_count": 8
        }
      ]
    },
    {
      "metadata": {
        "id": "UPfOlVRuYNmo",
        "colab_type": "code",
        "outputId": "1d45e777-e62b-4d67-9cba-98445c7fde7d",
        "colab": {
          "base_uri": "https://localhost:8080/",
          "height": 195
        }
      },
      "cell_type": "code",
      "source": [
        "data_oil.head()"
      ],
      "execution_count": 9,
      "outputs": [
        {
          "output_type": "execute_result",
          "data": {
            "text/html": [
              "<div>\n",
              "<style scoped>\n",
              "    .dataframe tbody tr th:only-of-type {\n",
              "        vertical-align: middle;\n",
              "    }\n",
              "\n",
              "    .dataframe tbody tr th {\n",
              "        vertical-align: top;\n",
              "    }\n",
              "\n",
              "    .dataframe thead th {\n",
              "        text-align: right;\n",
              "    }\n",
              "</style>\n",
              "<table border=\"1\" class=\"dataframe\">\n",
              "  <thead>\n",
              "    <tr style=\"text-align: right;\">\n",
              "      <th></th>\n",
              "      <th>Date</th>\n",
              "      <th>Open</th>\n",
              "    </tr>\n",
              "  </thead>\n",
              "  <tbody>\n",
              "    <tr>\n",
              "      <th>0</th>\n",
              "      <td>2000-01-04</td>\n",
              "      <td>25.20</td>\n",
              "    </tr>\n",
              "    <tr>\n",
              "      <th>1</th>\n",
              "      <td>2000-01-05</td>\n",
              "      <td>25.50</td>\n",
              "    </tr>\n",
              "    <tr>\n",
              "      <th>2</th>\n",
              "      <td>2000-01-06</td>\n",
              "      <td>24.80</td>\n",
              "    </tr>\n",
              "    <tr>\n",
              "      <th>3</th>\n",
              "      <td>2000-01-07</td>\n",
              "      <td>24.65</td>\n",
              "    </tr>\n",
              "    <tr>\n",
              "      <th>4</th>\n",
              "      <td>2000-01-10</td>\n",
              "      <td>24.22</td>\n",
              "    </tr>\n",
              "  </tbody>\n",
              "</table>\n",
              "</div>"
            ],
            "text/plain": [
              "         Date   Open\n",
              "0  2000-01-04  25.20\n",
              "1  2000-01-05  25.50\n",
              "2  2000-01-06  24.80\n",
              "3  2000-01-07  24.65\n",
              "4  2000-01-10  24.22"
            ]
          },
          "metadata": {
            "tags": []
          },
          "execution_count": 9
        }
      ]
    },
    {
      "metadata": {
        "id": "LvEU5KxwBM56",
        "colab_type": "text"
      },
      "cell_type": "markdown",
      "source": [
        "### Remoção"
      ]
    },
    {
      "metadata": {
        "id": "6_cDrdyKEvFm",
        "colab_type": "text"
      },
      "cell_type": "markdown",
      "source": [
        "Removendo entradas nulas:"
      ]
    },
    {
      "metadata": {
        "id": "YeuH2BVnE3Ne",
        "colab_type": "code",
        "colab": {}
      },
      "cell_type": "code",
      "source": [
        "data_petr = data_petr.dropna()\n",
        "data_oil = data_oil.dropna()"
      ],
      "execution_count": 0,
      "outputs": []
    },
    {
      "metadata": {
        "id": "tw4dg-J127o_",
        "colab_type": "text"
      },
      "cell_type": "markdown",
      "source": [
        "Conferindo o tamanho do banco sem as entradas nulas:"
      ]
    },
    {
      "metadata": {
        "id": "JGz-eU5lOYLD",
        "colab_type": "code",
        "outputId": "4ec03799-b011-42e1-d04b-60cda502baee",
        "colab": {
          "base_uri": "https://localhost:8080/",
          "height": 34
        }
      },
      "cell_type": "code",
      "source": [
        "len(data_petr)"
      ],
      "execution_count": 11,
      "outputs": [
        {
          "output_type": "execute_result",
          "data": {
            "text/plain": [
              "4737"
            ]
          },
          "metadata": {
            "tags": []
          },
          "execution_count": 11
        }
      ]
    },
    {
      "metadata": {
        "id": "g5BEEAYTYiYl",
        "colab_type": "code",
        "outputId": "9b421e6d-f75c-4f00-bcb3-e66cd125f276",
        "colab": {
          "base_uri": "https://localhost:8080/",
          "height": 34
        }
      },
      "cell_type": "code",
      "source": [
        "len(data_oil)"
      ],
      "execution_count": 12,
      "outputs": [
        {
          "output_type": "execute_result",
          "data": {
            "text/plain": [
              "4907"
            ]
          },
          "metadata": {
            "tags": []
          },
          "execution_count": 12
        }
      ]
    },
    {
      "metadata": {
        "id": "4qu4bKmJOy3f",
        "colab_type": "text"
      },
      "cell_type": "markdown",
      "source": [
        "Remoção de zeros decorrentes de dias em que não houve movimentação:"
      ]
    },
    {
      "metadata": {
        "id": "knRhANWHOlaD",
        "colab_type": "code",
        "colab": {}
      },
      "cell_type": "code",
      "source": [
        "data_petr = data_petr.drop(data_petr.loc[data_petr['Volume']==0].index)"
      ],
      "execution_count": 0,
      "outputs": []
    },
    {
      "metadata": {
        "id": "CCQ2yv_43dRO",
        "colab_type": "text"
      },
      "cell_type": "markdown",
      "source": [
        "Conferindo o tamanho do banco de dados com dias onde o volume foi diferente de zero:"
      ]
    },
    {
      "metadata": {
        "id": "ngHNZbGMPWrq",
        "colab_type": "code",
        "outputId": "c105147d-6a08-44f5-e0d8-3cd7fbba5422",
        "colab": {
          "base_uri": "https://localhost:8080/",
          "height": 34
        }
      },
      "cell_type": "code",
      "source": [
        "len(data_petr)"
      ],
      "execution_count": 14,
      "outputs": [
        {
          "output_type": "execute_result",
          "data": {
            "text/plain": [
              "4710"
            ]
          },
          "metadata": {
            "tags": []
          },
          "execution_count": 14
        }
      ]
    },
    {
      "metadata": {
        "id": "r5GIProMMqjp",
        "colab_type": "text"
      },
      "cell_type": "markdown",
      "source": [
        "### União dos bancos:"
      ]
    },
    {
      "metadata": {
        "id": "uzexu7MrMwra",
        "colab_type": "text"
      },
      "cell_type": "markdown",
      "source": [
        "Como observado os bancos possuem tamanhos distintos, isso ocorre pois existem feriados diferentes do Brasil para o resto do mundo. Nessa seção iremo unir os dois banco de dados, com o cuidado de replicar o dado do dia anterior em dias que não existirem em um ou outro banco."
      ]
    },
    {
      "metadata": {
        "id": "W33Nh_a-NL69",
        "colab_type": "text"
      },
      "cell_type": "markdown",
      "source": [
        "Resetando o index dos bancos:"
      ]
    },
    {
      "metadata": {
        "id": "nIG16IEMn0aY",
        "colab_type": "code",
        "colab": {}
      },
      "cell_type": "code",
      "source": [
        "data_petr = data_petr.reset_index(drop = True)\n",
        "data_oil = data_oil.reset_index(drop = True)"
      ],
      "execution_count": 0,
      "outputs": []
    },
    {
      "metadata": {
        "id": "X4Bf0MjwNWUj",
        "colab_type": "text"
      },
      "cell_type": "markdown",
      "source": [
        "Criando função que determina se uma data pertence a um banco de dados:"
      ]
    },
    {
      "metadata": {
        "id": "U9FdTzq0ZEtC",
        "colab_type": "code",
        "colab": {}
      },
      "cell_type": "code",
      "source": [
        "def select_date_df(date,df):\n",
        "  \n",
        "  \"\"\"Dada uma data de entrada (date) e um dataframe (df). Verifica se na\n",
        "  coluna 'Date' em df existe a data buscada. Retorna True se existir e False\n",
        "  caso conrário.\"\"\"\n",
        "  \n",
        "  if len(df.loc[df['Date'] == date])>0:\n",
        "    return True\n",
        "  else:\n",
        "    return False"
      ],
      "execution_count": 0,
      "outputs": []
    },
    {
      "metadata": {
        "id": "Py7y3SxuOE4l",
        "colab_type": "text"
      },
      "cell_type": "markdown",
      "source": [
        "Criação de uma lista com as entradas do novo banco de dados referente a data_petr respeitando a condição de repetir o valor de abertura caso não exista a entrada no banco de dados data_petr:"
      ]
    },
    {
      "metadata": {
        "id": "CMggLY3kalA-",
        "colab_type": "code",
        "colab": {}
      },
      "cell_type": "code",
      "source": [
        "data_petr_new = []\n",
        "\n",
        "\n",
        "for i in range(len(data_oil)):  \n",
        "    \n",
        "  \n",
        "  data = data_oil.iloc[i]['Date']\n",
        "  \n",
        "  if select_date_df(data,data_petr):    \n",
        "    index = data_petr.loc[data_petr['Date']== data].index[0]        \n",
        "    data_time = data_petr.iloc[index]['Open']\n",
        "    \n",
        "  else:    \n",
        "    data_time = data_petr.iloc[index]['Open']\n",
        "       \n",
        "  data_petr_new.append(data_time)\n",
        "\n"
      ],
      "execution_count": 0,
      "outputs": []
    },
    {
      "metadata": {
        "id": "EIdPWuXbO2zL",
        "colab_type": "text"
      },
      "cell_type": "markdown",
      "source": [
        "Criação do novo banco de dados:"
      ]
    },
    {
      "metadata": {
        "id": "sa7FUaznqILY",
        "colab_type": "code",
        "colab": {}
      },
      "cell_type": "code",
      "source": [
        "data_new = pd.DataFrame({'OpenPetr':data_petr_new})"
      ],
      "execution_count": 0,
      "outputs": []
    },
    {
      "metadata": {
        "id": "smvn-l-jO_WE",
        "colab_type": "text"
      },
      "cell_type": "markdown",
      "source": [
        "Verificando se o novo banco de dados com as entradas modificadas de data_petr possui o mesmo tamanho de data_oil:"
      ]
    },
    {
      "metadata": {
        "id": "SnI7Gveaqhnc",
        "colab_type": "code",
        "outputId": "bfee62a1-206d-43fa-900e-decbb6095e22",
        "colab": {
          "base_uri": "https://localhost:8080/",
          "height": 34
        }
      },
      "cell_type": "code",
      "source": [
        "len(data_oil) == len(data_new)"
      ],
      "execution_count": 19,
      "outputs": [
        {
          "output_type": "execute_result",
          "data": {
            "text/plain": [
              "True"
            ]
          },
          "metadata": {
            "tags": []
          },
          "execution_count": 19
        }
      ]
    },
    {
      "metadata": {
        "id": "_KayzX3cPOm9",
        "colab_type": "text"
      },
      "cell_type": "markdown",
      "source": [
        "Unindo os dois banco de dados:"
      ]
    },
    {
      "metadata": {
        "id": "S-Qpj2HfqzfB",
        "colab_type": "code",
        "colab": {}
      },
      "cell_type": "code",
      "source": [
        "dataset = pd.concat([data_oil, data_new], axis=1)"
      ],
      "execution_count": 0,
      "outputs": []
    },
    {
      "metadata": {
        "id": "5Wm5j6hVehZ4",
        "colab_type": "code",
        "outputId": "02a30b94-3793-46e8-cdeb-9ec0d80a10d0",
        "colab": {
          "base_uri": "https://localhost:8080/",
          "height": 195
        }
      },
      "cell_type": "code",
      "source": [
        "dataset.head()"
      ],
      "execution_count": 21,
      "outputs": [
        {
          "output_type": "execute_result",
          "data": {
            "text/html": [
              "<div>\n",
              "<style scoped>\n",
              "    .dataframe tbody tr th:only-of-type {\n",
              "        vertical-align: middle;\n",
              "    }\n",
              "\n",
              "    .dataframe tbody tr th {\n",
              "        vertical-align: top;\n",
              "    }\n",
              "\n",
              "    .dataframe thead th {\n",
              "        text-align: right;\n",
              "    }\n",
              "</style>\n",
              "<table border=\"1\" class=\"dataframe\">\n",
              "  <thead>\n",
              "    <tr style=\"text-align: right;\">\n",
              "      <th></th>\n",
              "      <th>Date</th>\n",
              "      <th>Open</th>\n",
              "      <th>OpenPetr</th>\n",
              "    </tr>\n",
              "  </thead>\n",
              "  <tbody>\n",
              "    <tr>\n",
              "      <th>0</th>\n",
              "      <td>2000-01-04</td>\n",
              "      <td>25.20</td>\n",
              "      <td>5.55</td>\n",
              "    </tr>\n",
              "    <tr>\n",
              "      <th>1</th>\n",
              "      <td>2000-01-05</td>\n",
              "      <td>25.50</td>\n",
              "      <td>5.49</td>\n",
              "    </tr>\n",
              "    <tr>\n",
              "      <th>2</th>\n",
              "      <td>2000-01-06</td>\n",
              "      <td>24.80</td>\n",
              "      <td>5.48</td>\n",
              "    </tr>\n",
              "    <tr>\n",
              "      <th>3</th>\n",
              "      <td>2000-01-07</td>\n",
              "      <td>24.65</td>\n",
              "      <td>5.50</td>\n",
              "    </tr>\n",
              "    <tr>\n",
              "      <th>4</th>\n",
              "      <td>2000-01-10</td>\n",
              "      <td>24.22</td>\n",
              "      <td>5.61</td>\n",
              "    </tr>\n",
              "  </tbody>\n",
              "</table>\n",
              "</div>"
            ],
            "text/plain": [
              "         Date   Open  OpenPetr\n",
              "0  2000-01-04  25.20      5.55\n",
              "1  2000-01-05  25.50      5.49\n",
              "2  2000-01-06  24.80      5.48\n",
              "3  2000-01-07  24.65      5.50\n",
              "4  2000-01-10  24.22      5.61"
            ]
          },
          "metadata": {
            "tags": []
          },
          "execution_count": 21
        }
      ]
    },
    {
      "metadata": {
        "id": "uI3cHmaXE7Qu",
        "colab_type": "text"
      },
      "cell_type": "markdown",
      "source": [
        "### Conferência da data"
      ]
    },
    {
      "metadata": {
        "id": "MtY2yQ9qFc6m",
        "colab_type": "text"
      },
      "cell_type": "markdown",
      "source": [
        "Definição da função que verifica se a data faz parte do banco de dados:"
      ]
    },
    {
      "metadata": {
        "id": "1yUrEqLhYLZC",
        "colab_type": "code",
        "colab": {}
      },
      "cell_type": "code",
      "source": [
        "def select_date(date):\n",
        "  \n",
        "  \"\"\"Dada uma entrada data de entrada verifica se essa data faz parte de dados.\n",
        "  Caso não faça pede para definir novamente. \"\"\"\n",
        "  \n",
        "  if len(dataset.loc[dataset['Date'] == date])>0:\n",
        "    return dataset.loc[dataset['Date'] == date].index[0]\n",
        "  else:\n",
        "    return print(\"Insira uma data válida\")"
      ],
      "execution_count": 0,
      "outputs": []
    },
    {
      "metadata": {
        "id": "Ul6iWPZ36GvH",
        "colab_type": "text"
      },
      "cell_type": "markdown",
      "source": [
        "Definindo o indice de inicio do banco:"
      ]
    },
    {
      "metadata": {
        "id": "oxG5pkKIFYeh",
        "colab_type": "code",
        "colab": {}
      },
      "cell_type": "code",
      "source": [
        "index_select_date = select_date(date)"
      ],
      "execution_count": 0,
      "outputs": []
    },
    {
      "metadata": {
        "id": "TchHP8kg6Lu1",
        "colab_type": "text"
      },
      "cell_type": "markdown",
      "source": [
        "Definindo o índice do fim do banco:"
      ]
    },
    {
      "metadata": {
        "id": "i98zj0Ol6PZg",
        "colab_type": "code",
        "colab": {}
      },
      "cell_type": "code",
      "source": [
        "index_final_date = select_date(final_date)"
      ],
      "execution_count": 0,
      "outputs": []
    },
    {
      "metadata": {
        "id": "NscIgXVkMFuO",
        "colab_type": "text"
      },
      "cell_type": "markdown",
      "source": [
        "Conferindo o tamanho do banco com as datas selecionadas:"
      ]
    },
    {
      "metadata": {
        "id": "7du5bxSTFKGa",
        "colab_type": "text"
      },
      "cell_type": "markdown",
      "source": [
        "### Treinamento e Teste"
      ]
    },
    {
      "metadata": {
        "id": "br1VQlO57Lm8",
        "colab_type": "text"
      },
      "cell_type": "markdown",
      "source": [
        "Separando dois bancos, um de treinamento e um de teste:"
      ]
    },
    {
      "metadata": {
        "id": "plJPYtrdFNtq",
        "colab_type": "code",
        "colab": {}
      },
      "cell_type": "code",
      "source": [
        "dataset_train = dataset.iloc[:-days,:]\n",
        "dataset_test = dataset.iloc[-days:,:]"
      ],
      "execution_count": 0,
      "outputs": []
    },
    {
      "metadata": {
        "id": "IjJy40haQ4Rp",
        "colab_type": "code",
        "outputId": "e4a77f0c-f5d6-45ea-9f33-77c32dd84c3c",
        "colab": {
          "base_uri": "https://localhost:8080/",
          "height": 195
        }
      },
      "cell_type": "code",
      "source": [
        "dataset_train.head()"
      ],
      "execution_count": 26,
      "outputs": [
        {
          "output_type": "execute_result",
          "data": {
            "text/html": [
              "<div>\n",
              "<style scoped>\n",
              "    .dataframe tbody tr th:only-of-type {\n",
              "        vertical-align: middle;\n",
              "    }\n",
              "\n",
              "    .dataframe tbody tr th {\n",
              "        vertical-align: top;\n",
              "    }\n",
              "\n",
              "    .dataframe thead th {\n",
              "        text-align: right;\n",
              "    }\n",
              "</style>\n",
              "<table border=\"1\" class=\"dataframe\">\n",
              "  <thead>\n",
              "    <tr style=\"text-align: right;\">\n",
              "      <th></th>\n",
              "      <th>Date</th>\n",
              "      <th>Open</th>\n",
              "      <th>OpenPetr</th>\n",
              "    </tr>\n",
              "  </thead>\n",
              "  <tbody>\n",
              "    <tr>\n",
              "      <th>0</th>\n",
              "      <td>2000-01-04</td>\n",
              "      <td>25.20</td>\n",
              "      <td>5.55</td>\n",
              "    </tr>\n",
              "    <tr>\n",
              "      <th>1</th>\n",
              "      <td>2000-01-05</td>\n",
              "      <td>25.50</td>\n",
              "      <td>5.49</td>\n",
              "    </tr>\n",
              "    <tr>\n",
              "      <th>2</th>\n",
              "      <td>2000-01-06</td>\n",
              "      <td>24.80</td>\n",
              "      <td>5.48</td>\n",
              "    </tr>\n",
              "    <tr>\n",
              "      <th>3</th>\n",
              "      <td>2000-01-07</td>\n",
              "      <td>24.65</td>\n",
              "      <td>5.50</td>\n",
              "    </tr>\n",
              "    <tr>\n",
              "      <th>4</th>\n",
              "      <td>2000-01-10</td>\n",
              "      <td>24.22</td>\n",
              "      <td>5.61</td>\n",
              "    </tr>\n",
              "  </tbody>\n",
              "</table>\n",
              "</div>"
            ],
            "text/plain": [
              "         Date   Open  OpenPetr\n",
              "0  2000-01-04  25.20      5.55\n",
              "1  2000-01-05  25.50      5.49\n",
              "2  2000-01-06  24.80      5.48\n",
              "3  2000-01-07  24.65      5.50\n",
              "4  2000-01-10  24.22      5.61"
            ]
          },
          "metadata": {
            "tags": []
          },
          "execution_count": 26
        }
      ]
    },
    {
      "metadata": {
        "id": "yhJAFJlGFn2a",
        "colab_type": "text"
      },
      "cell_type": "markdown",
      "source": [
        "Separando dados de treinamento e teste:"
      ]
    },
    {
      "metadata": {
        "id": "1yDrw6rtFnJo",
        "colab_type": "code",
        "colab": {}
      },
      "cell_type": "code",
      "source": [
        "training_set = dataset_train.iloc[:,1:3].values.astype(float)\n",
        "test_set = dataset_test.iloc[:,1:3].values.astype(float)"
      ],
      "execution_count": 0,
      "outputs": []
    },
    {
      "metadata": {
        "id": "XPpPaGnXFsMn",
        "colab_type": "text"
      },
      "cell_type": "markdown",
      "source": [
        "###MinMaxScaler:"
      ]
    },
    {
      "metadata": {
        "id": "wcdHOpuP7ZWq",
        "colab_type": "text"
      },
      "cell_type": "markdown",
      "source": [
        "Fazendo a transformação dos dados para ficar no intervalo [0,1] :"
      ]
    },
    {
      "metadata": {
        "id": "feo_aHH4Fv-0",
        "colab_type": "code",
        "colab": {}
      },
      "cell_type": "code",
      "source": [
        "sc = MinMaxScaler(feature_range = (0, 1))\n",
        "training_set_scaled = sc.fit_transform(training_set)"
      ],
      "execution_count": 0,
      "outputs": []
    },
    {
      "metadata": {
        "id": "TWYQCJSNGTyW",
        "colab_type": "text"
      },
      "cell_type": "markdown",
      "source": [
        "###X_train e y_train :"
      ]
    },
    {
      "metadata": {
        "id": "KRp_grOQ7rHE",
        "colab_type": "text"
      },
      "cell_type": "markdown",
      "source": [
        "Cada ciclo de treinamento deve ter o tamanho \"size\" definido anteriormente representando as \"size\" entradas anterioes. O conjunto de treinamento \"X_train\" deve emparelhar todas essas entradas. \"y_train\" é a saída da rede, o próximo elemento depois das \"size\" entradas:"
      ]
    },
    {
      "metadata": {
        "id": "OSeH4dBzGHSu",
        "colab_type": "code",
        "colab": {}
      },
      "cell_type": "code",
      "source": [
        "X_train = []\n",
        "y_train = []\n",
        "for i in range(size, len(training_set)):\n",
        "    \n",
        "    X_train.append(training_set_scaled[i-size:i, :])\n",
        "    y_train.append(training_set_scaled[i, 1])\n",
        "    \n",
        "X_train, y_train = np.array(X_train), np.array(y_train)\n",
        "    \n",
        "X_train = np.reshape(X_train, (X_train.shape[0], X_train.shape[1], 2))"
      ],
      "execution_count": 0,
      "outputs": []
    },
    {
      "metadata": {
        "id": "p8pcblfJGacd",
        "colab_type": "text"
      },
      "cell_type": "markdown",
      "source": [
        "## Construindo a RNN"
      ]
    },
    {
      "metadata": {
        "id": "WUmZPeb2GdVi",
        "colab_type": "code",
        "colab": {}
      },
      "cell_type": "code",
      "source": [
        "def regressor():\n",
        "  regressor = Sequential()\n",
        "\n",
        "  regressor.add(LSTM(units = 50, return_sequences = True, input_shape = (X_train.shape[1], 2)))\n",
        "  regressor.add(Dropout(0.2))\n",
        "\n",
        "  \n",
        "  regressor.add(LSTM(units = 50, return_sequences = True))\n",
        "  regressor.add(Dropout(0.2))\n",
        "\n",
        " \n",
        "  regressor.add(LSTM(units = 50, return_sequences = True))\n",
        "  regressor.add(Dropout(0.2))\n",
        "\n",
        "  \n",
        "  regressor.add(LSTM(units = 50))\n",
        "  regressor.add(Dropout(0.2))\n",
        "\n",
        "  \n",
        "  regressor.add(Dense(units = 1))\n",
        "\n",
        " \n",
        "  regressor.compile(optimizer = 'adam', loss = 'mean_squared_error')\n",
        "  \n",
        "  return regressor"
      ],
      "execution_count": 0,
      "outputs": []
    },
    {
      "metadata": {
        "id": "w7AXjm7e9Ltf",
        "colab_type": "text"
      },
      "cell_type": "markdown",
      "source": [
        "Mostrando as informações da rede:"
      ]
    },
    {
      "metadata": {
        "id": "1Hi86hA1G71v",
        "colab_type": "code",
        "outputId": "54d3be1c-9d7a-426c-ffdb-3bcab175e7c9",
        "colab": {
          "base_uri": "https://localhost:8080/",
          "height": 600
        }
      },
      "cell_type": "code",
      "source": [
        "regressor = regressor()\n",
        "print(regressor.summary())"
      ],
      "execution_count": 31,
      "outputs": [
        {
          "output_type": "stream",
          "text": [
            "WARNING:tensorflow:From /usr/local/lib/python3.6/dist-packages/tensorflow/python/framework/op_def_library.py:263: colocate_with (from tensorflow.python.framework.ops) is deprecated and will be removed in a future version.\n",
            "Instructions for updating:\n",
            "Colocations handled automatically by placer.\n",
            "WARNING:tensorflow:From /usr/local/lib/python3.6/dist-packages/keras/backend/tensorflow_backend.py:3445: calling dropout (from tensorflow.python.ops.nn_ops) with keep_prob is deprecated and will be removed in a future version.\n",
            "Instructions for updating:\n",
            "Please use `rate` instead of `keep_prob`. Rate should be set to `rate = 1 - keep_prob`.\n",
            "_________________________________________________________________\n",
            "Layer (type)                 Output Shape              Param #   \n",
            "=================================================================\n",
            "lstm_1 (LSTM)                (None, 100, 50)           10600     \n",
            "_________________________________________________________________\n",
            "dropout_1 (Dropout)          (None, 100, 50)           0         \n",
            "_________________________________________________________________\n",
            "lstm_2 (LSTM)                (None, 100, 50)           20200     \n",
            "_________________________________________________________________\n",
            "dropout_2 (Dropout)          (None, 100, 50)           0         \n",
            "_________________________________________________________________\n",
            "lstm_3 (LSTM)                (None, 100, 50)           20200     \n",
            "_________________________________________________________________\n",
            "dropout_3 (Dropout)          (None, 100, 50)           0         \n",
            "_________________________________________________________________\n",
            "lstm_4 (LSTM)                (None, 50)                20200     \n",
            "_________________________________________________________________\n",
            "dropout_4 (Dropout)          (None, 50)                0         \n",
            "_________________________________________________________________\n",
            "dense_1 (Dense)              (None, 1)                 51        \n",
            "=================================================================\n",
            "Total params: 71,251\n",
            "Trainable params: 71,251\n",
            "Non-trainable params: 0\n",
            "_________________________________________________________________\n",
            "None\n"
          ],
          "name": "stdout"
        }
      ]
    },
    {
      "metadata": {
        "id": "WG2m0tyEWMR3",
        "colab_type": "text"
      },
      "cell_type": "markdown",
      "source": [
        "### Treinando a rede"
      ]
    },
    {
      "metadata": {
        "id": "4fbUE2EoHC3I",
        "colab_type": "code",
        "outputId": "7fc9c11c-2a1f-4283-d4be-b4d6766f148a",
        "colab": {
          "base_uri": "https://localhost:8080/",
          "height": 442
        }
      },
      "cell_type": "code",
      "source": [
        "history = regressor.fit(X_train, y_train, epochs = 10, batch_size = 32)"
      ],
      "execution_count": 32,
      "outputs": [
        {
          "output_type": "stream",
          "text": [
            "WARNING:tensorflow:From /usr/local/lib/python3.6/dist-packages/tensorflow/python/ops/math_ops.py:3066: to_int32 (from tensorflow.python.ops.math_ops) is deprecated and will be removed in a future version.\n",
            "Instructions for updating:\n",
            "Use tf.cast instead.\n",
            "Epoch 1/10\n",
            "4757/4757 [==============================] - 39s 8ms/step - loss: 0.0049\n",
            "Epoch 2/10\n",
            "4757/4757 [==============================] - 36s 8ms/step - loss: 0.0016\n",
            "Epoch 3/10\n",
            "4757/4757 [==============================] - 36s 8ms/step - loss: 0.0014\n",
            "Epoch 4/10\n",
            "4757/4757 [==============================] - 37s 8ms/step - loss: 0.0012\n",
            "Epoch 5/10\n",
            "4757/4757 [==============================] - 41s 9ms/step - loss: 0.0011\n",
            "Epoch 6/10\n",
            "4757/4757 [==============================] - 43s 9ms/step - loss: 0.0011\n",
            "Epoch 7/10\n",
            "4757/4757 [==============================] - 43s 9ms/step - loss: 0.0010\n",
            "Epoch 8/10\n",
            "4757/4757 [==============================] - 43s 9ms/step - loss: 0.0010\n",
            "Epoch 9/10\n",
            "4757/4757 [==============================] - 43s 9ms/step - loss: 9.9157e-04\n",
            "Epoch 10/10\n",
            "4757/4757 [==============================] - 43s 9ms/step - loss: 8.6326e-04\n"
          ],
          "name": "stdout"
        }
      ]
    },
    {
      "metadata": {
        "id": "ZC6MjemTWTFv",
        "colab_type": "text"
      },
      "cell_type": "markdown",
      "source": [
        "## Visualização dos resultados"
      ]
    },
    {
      "metadata": {
        "id": "jLEA07-q9r0M",
        "colab_type": "text"
      },
      "cell_type": "markdown",
      "source": [
        "Criando a variável com o valor real da ação:"
      ]
    },
    {
      "metadata": {
        "id": "WI_THpZgTSQo",
        "colab_type": "code",
        "colab": {}
      },
      "cell_type": "code",
      "source": [
        "real_stock_price = dataset_test.iloc[:, 2:3].values.astype(float)\n"
      ],
      "execution_count": 0,
      "outputs": []
    },
    {
      "metadata": {
        "id": "PvGk407M94Bi",
        "colab_type": "text"
      },
      "cell_type": "markdown",
      "source": [
        "Criando as entradas para visualização dos resultados e fazendo a transformação baseada no conjunto de treinamento:"
      ]
    },
    {
      "metadata": {
        "id": "7d5fGsQNTamc",
        "colab_type": "code",
        "colab": {}
      },
      "cell_type": "code",
      "source": [
        "inputs = dataset.iloc[len(dataset) - len(dataset_test) - size:,1:3].values.astype(float)\n",
        "inputs = sc.transform(inputs)"
      ],
      "execution_count": 0,
      "outputs": []
    },
    {
      "metadata": {
        "id": "evCEI6m0_J0I",
        "colab_type": "text"
      },
      "cell_type": "markdown",
      "source": [
        "Criando a variável de teste:"
      ]
    },
    {
      "metadata": {
        "id": "FYIW7lRDTdqN",
        "colab_type": "code",
        "colab": {}
      },
      "cell_type": "code",
      "source": [
        "X_test = []\n",
        "for i in range(size, size+days):\n",
        "    X_test.append(inputs[i-size:i, :])\n",
        "X_test = np.array(X_test)\n",
        "X_test = np.reshape(X_test, (X_test.shape[0], X_test.shape[1], 2))"
      ],
      "execution_count": 0,
      "outputs": []
    },
    {
      "metadata": {
        "id": "s7x22c1j_OME",
        "colab_type": "text"
      },
      "cell_type": "markdown",
      "source": [
        "Aplicando a variável de teste na rede treinada anteriormente e fazendo o processo inverso de transformção escalar:"
      ]
    },
    {
      "metadata": {
        "id": "i1r2T9wSTkTk",
        "colab_type": "code",
        "colab": {}
      },
      "cell_type": "code",
      "source": [
        "predicted_stock_price = regressor.predict(X_test)\n",
        "predicted_stock_price = np.concatenate((predicted_stock_price, predicted_stock_price), axis=0)\n",
        "predicted_stock_price =predicted_stock_price.reshape(days,2)\n",
        "predicted_stock_price = sc.inverse_transform(predicted_stock_price)\n"
      ],
      "execution_count": 0,
      "outputs": []
    },
    {
      "metadata": {
        "id": "6Q5QxD21SRIw",
        "colab_type": "text"
      },
      "cell_type": "markdown",
      "source": [
        "Como essa rede recorrente possui duas saídas, vamos escolher a saída adequada:"
      ]
    },
    {
      "metadata": {
        "id": "a59MKHfqSPOH",
        "colab_type": "code",
        "colab": {}
      },
      "cell_type": "code",
      "source": [
        "predicted_stock_price=predicted_stock_price[:,1]"
      ],
      "execution_count": 0,
      "outputs": []
    },
    {
      "metadata": {
        "id": "uzrs3uTrANSQ",
        "colab_type": "text"
      },
      "cell_type": "markdown",
      "source": [
        "Cálculo do erro quadrático médio:"
      ]
    },
    {
      "metadata": {
        "id": "Pm5YK4qrTttO",
        "colab_type": "code",
        "colab": {}
      },
      "cell_type": "code",
      "source": [
        "rmse = math.sqrt(mean_squared_error(real_stock_price, predicted_stock_price))\n"
      ],
      "execution_count": 0,
      "outputs": []
    },
    {
      "metadata": {
        "id": "xwkImh6DBzyN",
        "colab_type": "code",
        "colab": {}
      },
      "cell_type": "code",
      "source": [
        "title = 'Preço de abertura de PETR4. RMSE = ' + str(rmse)[:5]"
      ],
      "execution_count": 0,
      "outputs": []
    },
    {
      "metadata": {
        "id": "Ldc9P_Vi_XYG",
        "colab_type": "text"
      },
      "cell_type": "markdown",
      "source": [
        "Mostrando o valor real da ação comparado com o valor previsto no período analisado:"
      ]
    },
    {
      "metadata": {
        "id": "_JRuH4jrTnbl",
        "colab_type": "code",
        "outputId": "36892af6-240c-4a83-ebaa-8255e60bcda1",
        "colab": {
          "base_uri": "https://localhost:8080/",
          "height": 295
        }
      },
      "cell_type": "code",
      "source": [
        "plt.plot(real_stock_price, color = 'red', label = \"Preço real de abertura de PETR4\")\n",
        "plt.plot(predicted_stock_price, color = 'blue', label = 'Preço previsto de abertura de PETR4')\n",
        "plt.title(title)\n",
        "plt.xlabel('Dias')\n",
        "plt.ylabel('Preço de abertura de PETR4')\n",
        "plt.legend()\n",
        "plt.show()"
      ],
      "execution_count": 40,
      "outputs": [
        {
          "output_type": "display_data",
          "data": {
            "image/png": "[encoded data removed]",
            "text/plain": [
              "<Figure size 432x288 with 1 Axes>"
            ]
          },
          "metadata": {
            "tags": []
          }
        }
      ]
    }
  ]
}